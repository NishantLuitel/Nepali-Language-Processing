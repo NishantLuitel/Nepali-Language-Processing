{
 "cells": [
  {
   "cell_type": "markdown",
   "id": "dadee70b",
   "metadata": {},
   "source": [
    "# Import Pretrained Models"
   ]
  },
  {
   "cell_type": "code",
   "execution_count": 3,
   "id": "3328ac94",
   "metadata": {},
   "outputs": [
    {
     "name": "stderr",
     "output_type": "stream",
     "text": [
      "Some weights of the model checkpoint at bert-base-multilingual-cased were not used when initializing BertModel: ['cls.seq_relationship.bias', 'cls.predictions.decoder.weight', 'cls.seq_relationship.weight', 'cls.predictions.bias', 'cls.predictions.transform.dense.weight', 'cls.predictions.transform.dense.bias', 'cls.predictions.transform.LayerNorm.bias', 'cls.predictions.transform.LayerNorm.weight']\n",
      "- This IS expected if you are initializing BertModel from the checkpoint of a model trained on another task or with another architecture (e.g. initializing a BertForSequenceClassification model from a BertForPreTraining model).\n",
      "- This IS NOT expected if you are initializing BertModel from the checkpoint of a model that you expect to be exactly identical (initializing a BertForSequenceClassification model from a BertForSequenceClassification model).\n"
     ]
    }
   ],
   "source": [
    "import torch\n",
    "from transformers import BertTokenizer,AutoModel\n",
    "tokenizer = BertTokenizer.from_pretrained('bert-base-multilingual-cased')\n",
    "model = AutoModel.from_pretrained(\"bert-base-multilingual-cased\")\n"
   ]
  },
  {
   "cell_type": "code",
   "execution_count": 4,
   "id": "c0a16911",
   "metadata": {},
   "outputs": [],
   "source": [
    "# output['last_hidden_state'].shape"
   ]
  },
  {
   "cell_type": "code",
   "execution_count": 5,
   "id": "56709d00",
   "metadata": {},
   "outputs": [],
   "source": [
    "# output"
   ]
  },
  {
   "cell_type": "code",
   "execution_count": 6,
   "id": "46c0d787",
   "metadata": {},
   "outputs": [],
   "source": [
    "# output['pooler_output'].shape"
   ]
  },
  {
   "cell_type": "markdown",
   "id": "cd260086",
   "metadata": {},
   "source": [
    "# Define Model for pretraining"
   ]
  },
  {
   "cell_type": "code",
   "execution_count": 43,
   "id": "d50b77b3",
   "metadata": {},
   "outputs": [],
   "source": [
    "from torch import nn\n",
    "\n",
    "\n",
    "class BertPreTrainedSentiment(nn.Module):\n",
    "    \n",
    "    def __init__(self,hid1,hid2,hid3):\n",
    "        super().__init__()\n",
    "        \n",
    "        self.checkpoint = 'bert-base-multilingual-cased'\n",
    "        self.pretrainedBert = AutoModel.from_pretrained(\"bert-base-multilingual-cased\")\n",
    "        \n",
    "        self.linear1 = nn.Linear(768,hid1)\n",
    "        self.linear2 = nn.Linear(hid1,hid2)\n",
    "        self.linear3 = nn.Linear(hid2,hid3)\n",
    "        self.linear4 = nn.Linear(hid3,3)\n",
    "        self.dropout = nn.Dropout(0.1)\n",
    "        self.act = nn.ReLU()\n",
    "        \n",
    "        \n",
    "    def forward(self,X):\n",
    "        y_temp = self.pretrainedBert(X)\n",
    "        y_temp = self.act(self.linear2(self.dropout(self.act(self.linear1(y_temp['pooler_output'])))))\n",
    "        y_temp = self.dropout(self.linear3(y_temp))\n",
    "        y = self.linear4(self.act(y_temp))\n",
    "        \n",
    "        \n",
    "        return y\n",
    "        \n",
    "    "
   ]
  },
  {
   "cell_type": "code",
   "execution_count": 44,
   "id": "171b16de",
   "metadata": {},
   "outputs": [],
   "source": [
    "# from transformers import BertTokenizer\n",
    "# tokenizer = BertTokenizer.from_pretrained('bert-base-multilingual-cased')\n",
    "\n",
    "\n",
    "\n",
    "# nepali_seq = 'यसको प्रभाव विगत दुई वर्षहरुमा पनि देखा पर्‍यो।'\n",
    "# ids = tokenizer(nepali_seq)['input_ids']\n",
    "\n",
    "# input_ids = torch.tensor([ids])"
   ]
  },
  {
   "cell_type": "code",
   "execution_count": 45,
   "id": "6ed21642",
   "metadata": {},
   "outputs": [],
   "source": [
    "# input_ids"
   ]
  },
  {
   "cell_type": "code",
   "execution_count": 46,
   "id": "1811c556",
   "metadata": {},
   "outputs": [],
   "source": [
    "# m = BertPreTrainedSentiment(200,800)"
   ]
  },
  {
   "cell_type": "code",
   "execution_count": 47,
   "id": "a5c9e3da",
   "metadata": {},
   "outputs": [],
   "source": [
    "# output = m(input_ids)"
   ]
  },
  {
   "cell_type": "code",
   "execution_count": 48,
   "id": "ba9235ef",
   "metadata": {},
   "outputs": [],
   "source": [
    "# output"
   ]
  },
  {
   "cell_type": "code",
   "execution_count": 49,
   "id": "8d8870da",
   "metadata": {},
   "outputs": [],
   "source": [
    "# sm = nn.Softmax(dim=1)"
   ]
  },
  {
   "cell_type": "code",
   "execution_count": 50,
   "id": "f6ebc68b",
   "metadata": {},
   "outputs": [],
   "source": [
    "# p_output = sm(torch.tensor([[5.,3.,1.]]))"
   ]
  },
  {
   "cell_type": "code",
   "execution_count": 17,
   "id": "4b110532",
   "metadata": {},
   "outputs": [],
   "source": [
    "# p_output"
   ]
  },
  {
   "cell_type": "markdown",
   "id": "511f4378",
   "metadata": {},
   "source": [
    "# Looking at the Data"
   ]
  },
  {
   "cell_type": "code",
   "execution_count": 18,
   "id": "f7d63749",
   "metadata": {},
   "outputs": [
    {
     "name": "stdout",
     "output_type": "stream",
     "text": [
      "Requirement already satisfied: pandas in f:\\nlp\\nepali-language-processing\\.venv\\lib\\site-packages (1.5.2)\n",
      "Requirement already satisfied: python-dateutil>=2.8.1 in f:\\nlp\\nepali-language-processing\\.venv\\lib\\site-packages (from pandas) (2.8.2)\n",
      "Requirement already satisfied: pytz>=2020.1 in f:\\nlp\\nepali-language-processing\\.venv\\lib\\site-packages (from pandas) (2022.7)\n",
      "Requirement already satisfied: numpy>=1.20.3 in f:\\nlp\\nepali-language-processing\\.venv\\lib\\site-packages (from pandas) (1.24.0)\n",
      "Requirement already satisfied: six>=1.5 in f:\\nlp\\nepali-language-processing\\.venv\\lib\\site-packages (from python-dateutil>=2.8.1->pandas) (1.16.0)\n",
      "Note: you may need to restart the kernel to use updated packages.\n",
      "Requirement already satisfied: nltk in f:\\nlp\\nepali-language-processing\\.venv\\lib\\site-packages (3.8)\n",
      "Requirement already satisfied: click in f:\\nlp\\nepali-language-processing\\.venv\\lib\\site-packages (from nltk) (8.1.3)\n",
      "Requirement already satisfied: tqdm in f:\\nlp\\nepali-language-processing\\.venv\\lib\\site-packages (from nltk) (4.64.1)\n",
      "Requirement already satisfied: joblib in f:\\nlp\\nepali-language-processing\\.venv\\lib\\site-packages (from nltk) (1.2.0)\n",
      "Requirement already satisfied: regex>=2021.8.3 in f:\\nlp\\nepali-language-processing\\.venv\\lib\\site-packages (from nltk) (2022.10.31)\n",
      "Requirement already satisfied: colorama in f:\\nlp\\nepali-language-processing\\.venv\\lib\\site-packages (from click->nltk) (0.4.6)\n",
      "Note: you may need to restart the kernel to use updated packages.\n"
     ]
    }
   ],
   "source": [
    "import numpy as np\n",
    "%pip install pandas\n",
    "%pip install nltk\n"
   ]
  },
  {
   "cell_type": "code",
   "execution_count": 19,
   "id": "c5c998dd",
   "metadata": {},
   "outputs": [],
   "source": [
    "import pandas as pd"
   ]
  },
  {
   "cell_type": "code",
   "execution_count": 20,
   "id": "2e360a5f",
   "metadata": {},
   "outputs": [],
   "source": [
    "data = pd.read_csv('all_sentimental_data.csv')"
   ]
  },
  {
   "cell_type": "code",
   "execution_count": 21,
   "id": "caf964ab",
   "metadata": {},
   "outputs": [
    {
     "data": {
      "text/html": [
       "<div>\n",
       "<style scoped>\n",
       "    .dataframe tbody tr th:only-of-type {\n",
       "        vertical-align: middle;\n",
       "    }\n",
       "\n",
       "    .dataframe tbody tr th {\n",
       "        vertical-align: top;\n",
       "    }\n",
       "\n",
       "    .dataframe thead th {\n",
       "        text-align: right;\n",
       "    }\n",
       "</style>\n",
       "<table border=\"1\" class=\"dataframe\">\n",
       "  <thead>\n",
       "    <tr style=\"text-align: right;\">\n",
       "      <th></th>\n",
       "      <th>text</th>\n",
       "      <th>label</th>\n",
       "    </tr>\n",
       "  </thead>\n",
       "  <tbody>\n",
       "    <tr>\n",
       "      <th>1099</th>\n",
       "      <td>युद्ध त तिमी र म बिच थियो</td>\n",
       "      <td>2</td>\n",
       "    </tr>\n",
       "    <tr>\n",
       "      <th>1441</th>\n",
       "      <td>कडा जवाफ पो आयो त साङ्लो बोरो</td>\n",
       "      <td>2</td>\n",
       "    </tr>\n",
       "    <tr>\n",
       "      <th>8560</th>\n",
       "      <td>सुरु देखि अहिले सम्म न छुताइ   हेर्ने म मात्र ...</td>\n",
       "      <td>2</td>\n",
       "    </tr>\n",
       "  </tbody>\n",
       "</table>\n",
       "</div>"
      ],
      "text/plain": [
       "                                                   text  label\n",
       "1099                          युद्ध त तिमी र म बिच थियो      2\n",
       "1441                      कडा जवाफ पो आयो त साङ्लो बोरो      2\n",
       "8560  सुरु देखि अहिले सम्म न छुताइ   हेर्ने म मात्र ...      2"
      ]
     },
     "execution_count": 21,
     "metadata": {},
     "output_type": "execute_result"
    }
   ],
   "source": [
    "data.sample(3)"
   ]
  },
  {
   "cell_type": "code",
   "execution_count": 22,
   "id": "b3b46161",
   "metadata": {},
   "outputs": [
    {
     "data": {
      "text/html": [
       "<div>\n",
       "<style scoped>\n",
       "    .dataframe tbody tr th:only-of-type {\n",
       "        vertical-align: middle;\n",
       "    }\n",
       "\n",
       "    .dataframe tbody tr th {\n",
       "        vertical-align: top;\n",
       "    }\n",
       "\n",
       "    .dataframe thead th {\n",
       "        text-align: right;\n",
       "    }\n",
       "</style>\n",
       "<table border=\"1\" class=\"dataframe\">\n",
       "  <thead>\n",
       "    <tr style=\"text-align: right;\">\n",
       "      <th></th>\n",
       "      <th>text</th>\n",
       "      <th>label</th>\n",
       "    </tr>\n",
       "  </thead>\n",
       "  <tbody>\n",
       "    <tr>\n",
       "      <th>0</th>\n",
       "      <td>यो समान राम्रो रहेछ</td>\n",
       "      <td>1</td>\n",
       "    </tr>\n",
       "    <tr>\n",
       "      <th>1</th>\n",
       "      <td>समान राम्रो रहेछ</td>\n",
       "      <td>1</td>\n",
       "    </tr>\n",
       "    <tr>\n",
       "      <th>2</th>\n",
       "      <td>राम्रो रहेछ</td>\n",
       "      <td>1</td>\n",
       "    </tr>\n",
       "    <tr>\n",
       "      <th>3</th>\n",
       "      <td>यो घडी मलाइ साँच्चिकै सुहाउछ । म यसलाई खरीद गर...</td>\n",
       "      <td>1</td>\n",
       "    </tr>\n",
       "    <tr>\n",
       "      <th>4</th>\n",
       "      <td>साँच्चिकै सुहाउछ</td>\n",
       "      <td>1</td>\n",
       "    </tr>\n",
       "  </tbody>\n",
       "</table>\n",
       "</div>"
      ],
      "text/plain": [
       "                                                text  label\n",
       "0                                यो समान राम्रो रहेछ      1\n",
       "1                                   समान राम्रो रहेछ      1\n",
       "2                                        राम्रो रहेछ      1\n",
       "3  यो घडी मलाइ साँच्चिकै सुहाउछ । म यसलाई खरीद गर...      1\n",
       "4                                   साँच्चिकै सुहाउछ      1"
      ]
     },
     "execution_count": 22,
     "metadata": {},
     "output_type": "execute_result"
    }
   ],
   "source": [
    "data.head()"
   ]
  },
  {
   "cell_type": "code",
   "execution_count": 23,
   "id": "d62a123f",
   "metadata": {},
   "outputs": [
    {
     "data": {
      "text/html": [
       "<div>\n",
       "<style scoped>\n",
       "    .dataframe tbody tr th:only-of-type {\n",
       "        vertical-align: middle;\n",
       "    }\n",
       "\n",
       "    .dataframe tbody tr th {\n",
       "        vertical-align: top;\n",
       "    }\n",
       "\n",
       "    .dataframe thead th {\n",
       "        text-align: right;\n",
       "    }\n",
       "</style>\n",
       "<table border=\"1\" class=\"dataframe\">\n",
       "  <thead>\n",
       "    <tr style=\"text-align: right;\">\n",
       "      <th></th>\n",
       "      <th>text</th>\n",
       "      <th>label</th>\n",
       "    </tr>\n",
       "  </thead>\n",
       "  <tbody>\n",
       "    <tr>\n",
       "      <th>6055</th>\n",
       "      <td>NaN</td>\n",
       "      <td>0</td>\n",
       "    </tr>\n",
       "    <tr>\n",
       "      <th>9149</th>\n",
       "      <td>NaN</td>\n",
       "      <td>0</td>\n",
       "    </tr>\n",
       "  </tbody>\n",
       "</table>\n",
       "</div>"
      ],
      "text/plain": [
       "     text  label\n",
       "6055  NaN      0\n",
       "9149  NaN      0"
      ]
     },
     "execution_count": 23,
     "metadata": {},
     "output_type": "execute_result"
    }
   ],
   "source": [
    "data[data.isnull().any(axis=1)]"
   ]
  },
  {
   "cell_type": "code",
   "execution_count": 24,
   "id": "aede12b9",
   "metadata": {},
   "outputs": [
    {
     "name": "stdout",
     "output_type": "stream",
     "text": [
      "<class 'pandas.core.frame.DataFrame'>\n",
      "RangeIndex: 10171 entries, 0 to 10170\n",
      "Data columns (total 2 columns):\n",
      " #   Column  Non-Null Count  Dtype \n",
      "---  ------  --------------  ----- \n",
      " 0   text    10169 non-null  object\n",
      " 1   label   10171 non-null  int64 \n",
      "dtypes: int64(1), object(1)\n",
      "memory usage: 159.0+ KB\n"
     ]
    }
   ],
   "source": [
    "data.info()"
   ]
  },
  {
   "cell_type": "code",
   "execution_count": 25,
   "id": "e57af815",
   "metadata": {},
   "outputs": [],
   "source": [
    "data.dropna(axis = 0, inplace = True)"
   ]
  },
  {
   "cell_type": "code",
   "execution_count": 26,
   "id": "d454b5f7",
   "metadata": {},
   "outputs": [
    {
     "name": "stdout",
     "output_type": "stream",
     "text": [
      "<class 'pandas.core.frame.DataFrame'>\n",
      "Int64Index: 10169 entries, 0 to 10170\n",
      "Data columns (total 2 columns):\n",
      " #   Column  Non-Null Count  Dtype \n",
      "---  ------  --------------  ----- \n",
      " 0   text    10169 non-null  object\n",
      " 1   label   10169 non-null  int64 \n",
      "dtypes: int64(1), object(1)\n",
      "memory usage: 238.3+ KB\n"
     ]
    }
   ],
   "source": [
    "data.info()"
   ]
  },
  {
   "cell_type": "code",
   "execution_count": 27,
   "id": "d0b0ab67",
   "metadata": {},
   "outputs": [
    {
     "data": {
      "text/plain": [
       "1    3965\n",
       "0    3702\n",
       "2    2502\n",
       "Name: label, dtype: int64"
      ]
     },
     "execution_count": 27,
     "metadata": {},
     "output_type": "execute_result"
    }
   ],
   "source": [
    "data.label.value_counts()"
   ]
  },
  {
   "cell_type": "markdown",
   "id": "6c9dd002",
   "metadata": {},
   "source": [
    "# Text Preprocessing"
   ]
  },
  {
   "cell_type": "code",
   "execution_count": 28,
   "id": "da210e17",
   "metadata": {},
   "outputs": [],
   "source": [
    "# %pip install nepalitokenizer\n",
    "# %pip install nepali-stemmer\n",
    "# %pip install importlib_resources"
   ]
  },
  {
   "cell_type": "code",
   "execution_count": 32,
   "id": "d8522ebd",
   "metadata": {},
   "outputs": [
    {
     "name": "stderr",
     "output_type": "stream",
     "text": [
      "[nltk_data] Downloading package stopwords to\n",
      "[nltk_data]     C:\\Users\\acer\\AppData\\Roaming\\nltk_data...\n",
      "[nltk_data]   Package stopwords is already up-to-date!\n"
     ]
    }
   ],
   "source": [
    "# from nepali_stemmer.stemmer import NepStemmer\n",
    "# from nepalitokenizer import NepaliTokenizer\n",
    "# nepstem = NepStemmer()\n",
    "# tokenize = NepaliTokenizer()\n",
    "import nltk\n",
    "nltk.download('stopwords')\n",
    "from nltk.corpus import stopwords\n",
    "import regex as re\n",
    "def text_preprocessing(text, nepali_stopwords = stopwords.words('nepali')):\n",
    "    # Tokenize the reviews\n",
    "    text = text.split()\n",
    "    # Remove the nepali stopwords\n",
    "    text = [word for word in text if word not in nepali_stopwords]\n",
    "    text = ' '.join(text)\n",
    "    # Stemming the nepali words\n",
    "#     text = nepstem.stem(text)\n",
    "    # Remove the leading and trailing spaces\n",
    "#     text = text.split()\n",
    "#     text = ' '.join(text)  \n",
    "    return text\n",
    "\n",
    "\n",
    "\n",
    "def pure_nepali(text):\n",
    "    text = re.sub(r'\\s*[\\u0964]\\s*', r'\\u0020\\u0964\\u0020', text)\n",
    "    text = re.sub(r'\\s*[\\u003f]\\s*', r'\\u0020\\u003f\\u0020', text)\n",
    "    text = re.sub(r'\\s*[\\u002c]\\s*', r'\\u0020\\u003f\\u0020', text)\n",
    "    text = re.sub(r'\\s*\\n\\s*','\\n', text)\n",
    "    text = re.sub(r'[^\\u0900-\\u097F,?\\s+]','', text)\n",
    "    return text"
   ]
  },
  {
   "cell_type": "code",
   "execution_count": 40,
   "id": "1e0a27d5",
   "metadata": {},
   "outputs": [],
   "source": [
    "X = data[\"text\"].apply(pure_nepali)\n"
   ]
  },
  {
   "cell_type": "code",
   "execution_count": 41,
   "id": "101cc2d4",
   "metadata": {},
   "outputs": [],
   "source": [
    "X = X.apply(text_preprocessing)\n",
    "y = data[\"label\"]"
   ]
  },
  {
   "cell_type": "code",
   "execution_count": 52,
   "id": "5a0ec80e",
   "metadata": {},
   "outputs": [
    {
     "name": "stdout",
     "output_type": "stream",
     "text": [
      "<class 'pandas.core.series.Series'>\n",
      "Int64Index: 10169 entries, 0 to 10170\n",
      "Series name: text\n",
      "Non-Null Count  Dtype \n",
      "--------------  ----- \n",
      "10169 non-null  object\n",
      "dtypes: object(1)\n",
      "memory usage: 158.9+ KB\n"
     ]
    }
   ],
   "source": [
    "X.info()"
   ]
  },
  {
   "cell_type": "code",
   "execution_count": 53,
   "id": "f4d29dd9",
   "metadata": {},
   "outputs": [
    {
     "name": "stdout",
     "output_type": "stream",
     "text": [
      "Requirement already satisfied: scikit-learn in f:\\nlp\\nepali-language-processing\\.venv\\lib\\site-packages (1.2.0)\n",
      "Requirement already satisfied: numpy>=1.17.3 in f:\\nlp\\nepali-language-processing\\.venv\\lib\\site-packages (from scikit-learn) (1.24.0)\n",
      "Requirement already satisfied: scipy>=1.3.2 in f:\\nlp\\nepali-language-processing\\.venv\\lib\\site-packages (from scikit-learn) (1.9.3)\n",
      "Requirement already satisfied: joblib>=1.1.1 in f:\\nlp\\nepali-language-processing\\.venv\\lib\\site-packages (from scikit-learn) (1.2.0)\n",
      "Requirement already satisfied: threadpoolctl>=2.0.0 in f:\\nlp\\nepali-language-processing\\.venv\\lib\\site-packages (from scikit-learn) (3.1.0)\n",
      "Note: you may need to restart the kernel to use updated packages.\n"
     ]
    }
   ],
   "source": [
    "%pip install scikit-learn\n",
    "from sklearn.model_selection import train_test_split\n",
    "X_train, X_test, y_train, y_test = train_test_split(X, y, test_size=0.2, random_state = 101)"
   ]
  },
  {
   "cell_type": "code",
   "execution_count": 54,
   "id": "d1e189d7",
   "metadata": {},
   "outputs": [
    {
     "name": "stdout",
     "output_type": "stream",
     "text": [
      "Train size =  8135\n",
      "Test size =  2034\n"
     ]
    }
   ],
   "source": [
    "print(f\"Train size =  {len(X_train)}\")\n",
    "print(f\"Test size =  {len(X_test)}\")\n"
   ]
  },
  {
   "cell_type": "code",
   "execution_count": null,
   "id": "e222d5d2",
   "metadata": {},
   "outputs": [],
   "source": []
  },
  {
   "cell_type": "code",
   "execution_count": 56,
   "id": "04bf2dff",
   "metadata": {},
   "outputs": [],
   "source": [
    "# t = tokenizer(list(X_train),padding = 'max_length',max_length = 32,truncation=True)"
   ]
  },
  {
   "cell_type": "code",
   "execution_count": null,
   "id": "2312aba7",
   "metadata": {},
   "outputs": [],
   "source": []
  },
  {
   "cell_type": "code",
   "execution_count": 57,
   "id": "1df14514",
   "metadata": {},
   "outputs": [
    {
     "data": {
      "text/plain": [
       "0"
      ]
     },
     "execution_count": 57,
     "metadata": {},
     "output_type": "execute_result"
    }
   ],
   "source": [
    "max_length = 64\n",
    "\n",
    "batch_size = 32\n",
    "rem = len(X_train)%batch_size\n",
    "t = tokenizer(list(X_train),padding = 'max_length',max_length =max_length,truncation=True)\n",
    "torch.cuda.memory_allocated()"
   ]
  },
  {
   "cell_type": "code",
   "execution_count": 58,
   "id": "68c37f17",
   "metadata": {},
   "outputs": [
    {
     "name": "stdout",
     "output_type": "stream",
     "text": [
      "torch.Size([8128, 64])\n"
     ]
    },
    {
     "data": {
      "text/plain": [
       "torch.Size([254, 32, 64])"
      ]
     },
     "execution_count": 58,
     "metadata": {},
     "output_type": "execute_result"
    }
   ],
   "source": [
    "ids = t['input_ids']\n",
    "device = 'cuda' if torch.cuda.is_available() else 'cpu'\n",
    "\n",
    "\n",
    "\n",
    "input_ids = torch.tensor(ids)[:-rem,:]\n",
    "print(input_ids.shape)\n",
    "batched_ids = input_ids.reshape(-1,batch_size,max_length)\n",
    "\n",
    "\n",
    "batched_ids.shape"
   ]
  },
  {
   "cell_type": "code",
   "execution_count": 59,
   "id": "995c08fd",
   "metadata": {},
   "outputs": [],
   "source": [
    "targets = torch.tensor(list(y_train))[:-rem]\n",
    "targets = targets.reshape(-1,batch_size)"
   ]
  },
  {
   "cell_type": "markdown",
   "id": "095177d4",
   "metadata": {},
   "source": [
    "# Instantiate a model and train "
   ]
  },
  {
   "cell_type": "code",
   "execution_count": 60,
   "id": "9854bcd7",
   "metadata": {},
   "outputs": [
    {
     "name": "stderr",
     "output_type": "stream",
     "text": [
      "Some weights of the model checkpoint at bert-base-multilingual-cased were not used when initializing BertModel: ['cls.seq_relationship.bias', 'cls.predictions.decoder.weight', 'cls.seq_relationship.weight', 'cls.predictions.bias', 'cls.predictions.transform.dense.weight', 'cls.predictions.transform.dense.bias', 'cls.predictions.transform.LayerNorm.bias', 'cls.predictions.transform.LayerNorm.weight']\n",
      "- This IS expected if you are initializing BertModel from the checkpoint of a model trained on another task or with another architecture (e.g. initializing a BertForSequenceClassification model from a BertForPreTraining model).\n",
      "- This IS NOT expected if you are initializing BertModel from the checkpoint of a model that you expect to be exactly identical (initializing a BertForSequenceClassification model from a BertForSequenceClassification model).\n"
     ]
    }
   ],
   "source": [
    "model = BertPreTrainedSentiment(480,180,60).to(device)"
   ]
  },
  {
   "cell_type": "code",
   "execution_count": 61,
   "id": "5d28bc0d",
   "metadata": {},
   "outputs": [],
   "source": [
    "criterion = nn.CrossEntropyLoss()\n",
    "lr = 0.01  # learning rate\n",
    "optimizer = torch.optim.SGD(model.parameters(), lr=lr)\n",
    "scheduler = torch.optim.lr_scheduler.StepLR(optimizer, 1.0, gamma=0.95)"
   ]
  },
  {
   "cell_type": "code",
   "execution_count": 65,
   "id": "fb080648",
   "metadata": {},
   "outputs": [],
   "source": [
    "def train(model: nn.Module) -> None:\n",
    "    model.train()  # turn on train mode\n",
    "    total_loss = 0.\n",
    "    log_interval = 50\n",
    "    start_time = time.time()\n",
    "#     src_mask = generate_square_subsequent_mask(bptt).to(device)\n",
    "    for i in range(0, batched_ids.size(0)):\n",
    "        data = batched_ids[i]\n",
    "        targets_ = targets[i]\n",
    "#         batch_size = data.size(0)\n",
    "#         if batch_size != bptt:  # only on last batch\n",
    "#             src_mask = src_mask[:batch_size, :batch_size]\n",
    "        output = model(data.to(device))\n",
    "        loss = criterion(output.view(-1, 3), targets_.to(device))\n",
    "\n",
    "        optimizer.zero_grad()\n",
    "        loss.backward()\n",
    "        torch.nn.utils.clip_grad_norm_(model.parameters(), 0.5)\n",
    "        optimizer.step()\n",
    "\n",
    "        total_loss += loss.item()\n",
    "        if i % log_interval == 0 and i > 0:\n",
    "            lr = scheduler.get_last_lr()[0]\n",
    "            ms_per_batch = (time.time() - start_time) * 1000 / log_interval\n",
    "            cur_loss = total_loss / log_interval\n",
    "            print(f'| epoch {epoch:3d} | {i:5d}/{batched_ids.size(0):5d} batches | '\n",
    "                  f'lr {lr:02.2f} | ms/batch {ms_per_batch:5.2f} | '\n",
    "                  f'loss {cur_loss:5.2f} |')\n",
    "            total_loss = 0\n",
    "            start_time = time.time()\n",
    "    "
   ]
  },
  {
   "cell_type": "code",
   "execution_count": 66,
   "id": "bde87c63",
   "metadata": {},
   "outputs": [
    {
     "data": {
      "text/plain": [
       "torch.Size([32, 64])"
      ]
     },
     "execution_count": 66,
     "metadata": {},
     "output_type": "execute_result"
    }
   ],
   "source": [
    "batched_ids[0].shape"
   ]
  },
  {
   "cell_type": "code",
   "execution_count": 67,
   "id": "c0385bc9",
   "metadata": {},
   "outputs": [],
   "source": [
    "sm = nn.Softmax(dim=1)"
   ]
  },
  {
   "cell_type": "code",
   "execution_count": 248,
   "id": "827bbc2e",
   "metadata": {},
   "outputs": [
    {
     "name": "stdout",
     "output_type": "stream",
     "text": [
      "| epoch   1 |    50/  254 batches | lr 0.05 | ms/batch 484.68 | loss  0.24 |\n",
      "| epoch   1 |   100/  254 batches | lr 0.05 | ms/batch 460.61 | loss  0.24 |\n",
      "| epoch   1 |   150/  254 batches | lr 0.05 | ms/batch 463.61 | loss  0.22 |\n",
      "| epoch   1 |   200/  254 batches | lr 0.05 | ms/batch 465.45 | loss  0.22 |\n",
      "| epoch   1 |   250/  254 batches | lr 0.05 | ms/batch 467.28 | loss  0.26 |\n",
      "| epoch   2 |    50/  254 batches | lr 0.05 | ms/batch 477.57 | loss  0.25 |\n",
      "| epoch   2 |   100/  254 batches | lr 0.05 | ms/batch 469.12 | loss  0.24 |\n",
      "| epoch   2 |   150/  254 batches | lr 0.05 | ms/batch 905.62 | loss  0.21 |\n",
      "| epoch   2 |   200/  254 batches | lr 0.05 | ms/batch 465.65 | loss  0.20 |\n",
      "| epoch   2 |   250/  254 batches | lr 0.05 | ms/batch 467.42 | loss  0.27 |\n",
      "| epoch   3 |    50/  254 batches | lr 0.05 | ms/batch 479.06 | loss  0.23 |\n",
      "| epoch   3 |   100/  254 batches | lr 0.05 | ms/batch 469.45 | loss  0.23 |\n",
      "| epoch   3 |   150/  254 batches | lr 0.05 | ms/batch 470.63 | loss  0.21 |\n",
      "| epoch   3 |   200/  254 batches | lr 0.05 | ms/batch 470.04 | loss  0.24 |\n",
      "| epoch   3 |   250/  254 batches | lr 0.05 | ms/batch 469.96 | loss  0.25 |\n",
      "| epoch   4 |    50/  254 batches | lr 0.05 | ms/batch 479.44 | loss  0.24 |\n",
      "| epoch   4 |   100/  254 batches | lr 0.05 | ms/batch 470.03 | loss  0.24 |\n",
      "| epoch   4 |   150/  254 batches | lr 0.05 | ms/batch 469.88 | loss  0.20 |\n",
      "| epoch   4 |   200/  254 batches | lr 0.05 | ms/batch 469.72 | loss  0.23 |\n",
      "| epoch   4 |   250/  254 batches | lr 0.05 | ms/batch 470.24 | loss  0.24 |\n",
      "| epoch   5 |    50/  254 batches | lr 0.05 | ms/batch 479.87 | loss  0.24 |\n",
      "| epoch   5 |   100/  254 batches | lr 0.05 | ms/batch 470.47 | loss  0.23 |\n",
      "| epoch   5 |   150/  254 batches | lr 0.05 | ms/batch 470.75 | loss  0.20 |\n",
      "| epoch   5 |   200/  254 batches | lr 0.05 | ms/batch 470.95 | loss  0.22 |\n",
      "| epoch   5 |   250/  254 batches | lr 0.05 | ms/batch 471.10 | loss  0.23 |\n",
      "| epoch   6 |    50/  254 batches | lr 0.05 | ms/batch 480.10 | loss  0.23 |\n",
      "| epoch   6 |   100/  254 batches | lr 0.05 | ms/batch 470.67 | loss  0.25 |\n",
      "| epoch   6 |   150/  254 batches | lr 0.05 | ms/batch 470.67 | loss  0.19 |\n",
      "| epoch   6 |   200/  254 batches | lr 0.05 | ms/batch 470.45 | loss  0.23 |\n",
      "| epoch   6 |   250/  254 batches | lr 0.05 | ms/batch 470.52 | loss  0.22 |\n",
      "| epoch   7 |    50/  254 batches | lr 0.05 | ms/batch 479.54 | loss  0.24 |\n",
      "| epoch   7 |   100/  254 batches | lr 0.05 | ms/batch 470.20 | loss  0.25 |\n",
      "| epoch   7 |   150/  254 batches | lr 0.05 | ms/batch 470.31 | loss  0.20 |\n",
      "| epoch   7 |   200/  254 batches | lr 0.05 | ms/batch 470.27 | loss  0.22 |\n",
      "| epoch   7 |   250/  254 batches | lr 0.05 | ms/batch 470.82 | loss  0.22 |\n",
      "| epoch   8 |    50/  254 batches | lr 0.05 | ms/batch 480.53 | loss  0.23 |\n",
      "| epoch   8 |   100/  254 batches | lr 0.05 | ms/batch 470.97 | loss  0.23 |\n",
      "| epoch   8 |   150/  254 batches | lr 0.05 | ms/batch 471.16 | loss  0.20 |\n",
      "| epoch   8 |   200/  254 batches | lr 0.05 | ms/batch 471.00 | loss  0.20 |\n",
      "| epoch   8 |   250/  254 batches | lr 0.05 | ms/batch 470.54 | loss  0.24 |\n",
      "| epoch   9 |    50/  254 batches | lr 0.05 | ms/batch 480.11 | loss  0.23 |\n",
      "| epoch   9 |   100/  254 batches | lr 0.05 | ms/batch 470.65 | loss  0.20 |\n",
      "| epoch   9 |   150/  254 batches | lr 0.05 | ms/batch 470.78 | loss  0.20 |\n",
      "| epoch   9 |   200/  254 batches | lr 0.05 | ms/batch 470.81 | loss  0.21 |\n",
      "| epoch   9 |   250/  254 batches | lr 0.05 | ms/batch 470.87 | loss  0.25 |\n",
      "| epoch  10 |    50/  254 batches | lr 0.05 | ms/batch 480.25 | loss  0.23 |\n",
      "| epoch  10 |   100/  254 batches | lr 0.05 | ms/batch 470.86 | loss  0.22 |\n",
      "| epoch  10 |   150/  254 batches | lr 0.05 | ms/batch 470.83 | loss  0.20 |\n",
      "| epoch  10 |   200/  254 batches | lr 0.05 | ms/batch 471.06 | loss  0.20 |\n",
      "| epoch  10 |   250/  254 batches | lr 0.05 | ms/batch 471.12 | loss  0.23 |\n"
     ]
    }
   ],
   "source": [
    "# import copy\n",
    "import time\n",
    "epochs = 10\n",
    "for epoch in range(1, epochs + 1):\n",
    "    epoch_start_time = time.time()\n",
    "    train(model)\n",
    "    \n",
    "\n"
   ]
  },
  {
   "cell_type": "code",
   "execution_count": 249,
   "id": "c7b89b84",
   "metadata": {},
   "outputs": [],
   "source": [
    "nepali_seq = 'यसको प्रभाव विगत दुई वर्षहरुमा पनि देखा पर्‍यो।'\n",
    "ids = tokenizer(nepali_seq,padding = 'max_length',max_length=64,truncation = True)['input_ids']\n",
    "\n",
    "input_ids = torch.tensor([ids])"
   ]
  },
  {
   "cell_type": "code",
   "execution_count": 250,
   "id": "f4e1eefb",
   "metadata": {},
   "outputs": [],
   "source": [
    "torch.save(model.state_dict(),'model_after_pure_nepali9.pt')"
   ]
  },
  {
   "cell_type": "markdown",
   "id": "70769580",
   "metadata": {},
   "source": [
    "# Evaluation"
   ]
  },
  {
   "cell_type": "code",
   "execution_count": 251,
   "id": "36566340",
   "metadata": {},
   "outputs": [],
   "source": [
    "model.eval()\n",
    "\n",
    "\n",
    "o = model(input_ids.to(device))"
   ]
  },
  {
   "cell_type": "code",
   "execution_count": 252,
   "id": "74175850",
   "metadata": {},
   "outputs": [],
   "source": [
    "y = sm(o)"
   ]
  },
  {
   "cell_type": "code",
   "execution_count": 253,
   "id": "97b91ad6",
   "metadata": {},
   "outputs": [
    {
     "data": {
      "text/plain": [
       "tensor([[0.2270, 0.6079, 0.1651]], device='cuda:0', grad_fn=<SoftmaxBackward0>)"
      ]
     },
     "execution_count": 253,
     "metadata": {},
     "output_type": "execute_result"
    }
   ],
   "source": [
    "y"
   ]
  },
  {
   "cell_type": "code",
   "execution_count": null,
   "id": "8163039d",
   "metadata": {},
   "outputs": [],
   "source": []
  },
  {
   "cell_type": "code",
   "execution_count": 254,
   "id": "0bf87e95",
   "metadata": {},
   "outputs": [],
   "source": [
    "def batched_indices(X,y):\n",
    "    rem = len(X)%batch_size\n",
    "    \n",
    "    t = tokenizer(X,padding = 'max_length',max_length =max_length,truncation=True)\n",
    "    ids = t['input_ids']\n",
    "\n",
    "    input_ids = torch.tensor(ids)[:-rem,:]\n",
    "    batched_ids = input_ids.reshape(-1,batch_size,max_length)\n",
    "    targets = torch.tensor(y)[:-rem]\n",
    "    targets = targets.reshape(-1,batch_size)\n",
    "    \n",
    "    return batched_ids,targets"
   ]
  },
  {
   "cell_type": "code",
   "execution_count": 255,
   "id": "0ad80797",
   "metadata": {},
   "outputs": [],
   "source": [
    "b,t = batched_indices(list(X_test),list(y_test))"
   ]
  },
  {
   "cell_type": "code",
   "execution_count": 256,
   "id": "3ec2e652",
   "metadata": {},
   "outputs": [],
   "source": [
    "i = 8"
   ]
  },
  {
   "cell_type": "code",
   "execution_count": 257,
   "id": "4a5f5a6f",
   "metadata": {},
   "outputs": [],
   "source": [
    "y = sm(model(b[i].to(device))).argmax(-1)"
   ]
  },
  {
   "cell_type": "code",
   "execution_count": 258,
   "id": "00571bd3",
   "metadata": {},
   "outputs": [
    {
     "data": {
      "text/plain": [
       "tensor([0, 2, 0, 1, 0, 0, 1, 0, 2, 0, 0, 1, 2, 2, 1, 1, 1, 2, 0, 2, 1, 1, 1, 1,\n",
       "        0, 1, 0, 1, 0, 0, 0, 0], device='cuda:0')"
      ]
     },
     "execution_count": 258,
     "metadata": {},
     "output_type": "execute_result"
    }
   ],
   "source": [
    "y"
   ]
  },
  {
   "cell_type": "code",
   "execution_count": 259,
   "id": "8f0498fb",
   "metadata": {},
   "outputs": [
    {
     "data": {
      "text/plain": [
       "tensor(26, device='cuda:0')"
      ]
     },
     "execution_count": 259,
     "metadata": {},
     "output_type": "execute_result"
    }
   ],
   "source": [
    "sum(t[i].to(device) == y)"
   ]
  },
  {
   "cell_type": "code",
   "execution_count": 260,
   "id": "83cb78c1",
   "metadata": {},
   "outputs": [
    {
     "data": {
      "text/plain": [
       "tensor([0, 2, 0, 1, 0, 1, 0, 0, 1, 1, 1, 1, 2, 2, 1, 1, 1, 2, 0, 2, 1, 1, 0, 1,\n",
       "        0, 1, 0, 1, 0, 0, 0, 0])"
      ]
     },
     "execution_count": 260,
     "metadata": {},
     "output_type": "execute_result"
    }
   ],
   "source": [
    "t[i]"
   ]
  },
  {
   "cell_type": "code",
   "execution_count": 261,
   "id": "13ccc3dc",
   "metadata": {},
   "outputs": [
    {
     "data": {
      "text/plain": [
       "tensor(0.8125, device='cuda:0')"
      ]
     },
     "execution_count": 261,
     "metadata": {},
     "output_type": "execute_result"
    }
   ],
   "source": [
    "#True Positive\n",
    "sum(t[i].to(device) == y)/32"
   ]
  },
  {
   "cell_type": "code",
   "execution_count": 262,
   "id": "d03c77a5",
   "metadata": {},
   "outputs": [
    {
     "data": {
      "text/plain": [
       "tensor([[   101,  32629, 111200,  ...,  35133,  11554,    102],\n",
       "        [   101,    889,  11453,  ...,      0,      0,      0],\n",
       "        [   101,  26876,    887,  ...,      0,      0,      0],\n",
       "        ...,\n",
       "        [   101,  26876,  12512,  ...,  11267, 101841,    102],\n",
       "        [   101,    889,  14070,  ...,  41013,    920,    102],\n",
       "        [   101,    871,  12878,  ...,      0,      0,      0]])"
      ]
     },
     "execution_count": 262,
     "metadata": {},
     "output_type": "execute_result"
    }
   ],
   "source": [
    "b[0]"
   ]
  },
  {
   "cell_type": "code",
   "execution_count": 263,
   "id": "34e11e5e",
   "metadata": {},
   "outputs": [
    {
     "name": "stdout",
     "output_type": "stream",
     "text": [
      "tensor(0.6721, device='cuda:0')\n"
     ]
    }
   ],
   "source": [
    "true_positive = 0\n",
    "y_all = None\n",
    "for i in range(len(b)):\n",
    "    y = sm(model(b[i].to(device))).argmax(-1)\n",
    "    if (y_all == None):\n",
    "        y_all = y\n",
    "    else:\n",
    "        y_all = torch.cat((y_all,y))\n",
    "    true_positive += (sum(t[i].to(device) == y)/32)\n",
    "avg_true_positive = true_positive/len(b)\n",
    "\n",
    "print(avg_true_positive)"
   ]
  },
  {
   "cell_type": "code",
   "execution_count": 264,
   "id": "a98fc1c3",
   "metadata": {},
   "outputs": [
    {
     "data": {
      "text/plain": [
       "(tensor([0, 1, 1, 0, 0, 0, 1, 1, 1, 1, 2, 1, 1, 0, 0, 1, 0, 2, 1, 2, 0, 0, 1, 2,\n",
       "         0, 0, 0, 1, 2, 0, 0, 0, 2, 1, 1, 0, 1, 2, 0, 0, 1, 1, 1, 1, 2, 1, 1, 1,\n",
       "         2, 1, 1, 0, 0, 1, 1, 1, 1, 1, 1, 2, 2, 0, 1, 2], device='cuda:0'),\n",
       " tensor([2, 1, 1, 0, 1, 2, 0, 0, 1, 1, 1, 1, 2, 1, 1, 1, 2, 1, 1, 0, 0, 1, 1, 1,\n",
       "         1, 1, 1, 2, 2, 0, 1, 2], device='cuda:0'),\n",
       " tensor([0, 2, 2, 0, 0, 0, 1, 1, 1, 2, 0, 0, 1, 0, 0, 1, 0, 1, 0, 0, 2, 0, 0, 1,\n",
       "         2, 0, 0, 1, 2, 0, 0, 0, 0, 2, 1, 0, 2, 0, 0, 0, 0, 0, 1, 1, 0, 1, 1, 1,\n",
       "         0, 2, 2, 0, 0, 2, 1, 1, 2, 1, 1, 0, 0, 0, 1, 2]))"
      ]
     },
     "execution_count": 264,
     "metadata": {},
     "output_type": "execute_result"
    }
   ],
   "source": [
    "y_all[:64],sm(model(b[1].to(device))).argmax(-1),t.reshape(-1)[:64]"
   ]
  },
  {
   "cell_type": "code",
   "execution_count": 265,
   "id": "f8a5274f",
   "metadata": {},
   "outputs": [],
   "source": [
    "#0.62..\n",
    "#0.6523\n",
    "#0.6438\n",
    "#0.6409\n",
    "#0.6553\n",
    "\n",
    "#0.6285\n",
    "#0.6349\n",
    "\n",
    "#dropout\n",
    "#0.6305\n",
    "#0.6493\n",
    "#0.6523\n",
    "#0.6617\n",
    "#0.6558"
   ]
  },
  {
   "cell_type": "code",
   "execution_count": 266,
   "id": "f77b13e3",
   "metadata": {},
   "outputs": [
    {
     "data": {
      "text/plain": [
       "[Text(0.5, 23.52222222222222, 'Predicted'),\n",
       " Text(50.722222222222214, 0.5, 'True'),\n",
       " Text(0.5, 1.0, 'Confusion matrix for the model')]"
      ]
     },
     "execution_count": 266,
     "metadata": {},
     "output_type": "execute_result"
    },
    {
     "data": {
      "image/png": "[encoded data removed]",
      "text/plain": [
       "<Figure size 640x480 with 2 Axes>"
      ]
     },
     "metadata": {},
     "output_type": "display_data"
    }
   ],
   "source": [
    "from sklearn.metrics import confusion_matrix, classification_report\n",
    "#%pip install seaborn\n",
    "import seaborn as sns\n",
    "#import matplotlib.plot as plt\n",
    "\n",
    "test_pred = list(y_all.to('cpu'))\n",
    "test_true = list(t.reshape(-1).to('cpu'))\n",
    "cm = confusion_matrix(y_true = test_true, y_pred = test_pred)\n",
    "cm_heatmap = sns.heatmap(cm, annot = True)\n",
    "cm_heatmap.set(xlabel = \"Predicted\", ylabel = \"True\", title = \"Confusion matrix for the model\")\n",
    "# plt.show()\n",
    "     "
   ]
  },
  {
   "cell_type": "code",
   "execution_count": 267,
   "id": "8b06423f",
   "metadata": {},
   "outputs": [
    {
     "name": "stdout",
     "output_type": "stream",
     "text": [
      "              precision    recall  f1-score   support\n",
      "\n",
      "    Negative       0.67      0.67      0.67       709\n",
      "    Positive       0.74      0.77      0.76       797\n",
      "     Neutral       0.56      0.52      0.54       510\n",
      "\n",
      "    accuracy                           0.67      2016\n",
      "   macro avg       0.66      0.65      0.65      2016\n",
      "weighted avg       0.67      0.67      0.67      2016\n",
      "\n"
     ]
    }
   ],
   "source": [
    "print(classification_report(y_true = test_true, y_pred = test_pred, target_names = ['Negative', 'Positive', 'Neutral']))"
   ]
  },
  {
   "cell_type": "code",
   "execution_count": null,
   "id": "d25337a7",
   "metadata": {},
   "outputs": [],
   "source": []
  },
  {
   "cell_type": "code",
   "execution_count": null,
   "id": "43284c92",
   "metadata": {},
   "outputs": [],
   "source": []
  },
  {
   "cell_type": "code",
   "execution_count": null,
   "id": "307784a4",
   "metadata": {},
   "outputs": [],
   "source": []
  },
  {
   "cell_type": "code",
   "execution_count": null,
   "id": "76ecc65f",
   "metadata": {},
   "outputs": [],
   "source": []
  },
  {
   "cell_type": "code",
   "execution_count": null,
   "id": "cfd044dc",
   "metadata": {},
   "outputs": [],
   "source": []
  },
  {
   "cell_type": "code",
   "execution_count": null,
   "id": "26a8a485",
   "metadata": {},
   "outputs": [],
   "source": []
  },
  {
   "cell_type": "code",
   "execution_count": null,
   "id": "e69120e4",
   "metadata": {},
   "outputs": [],
   "source": []
  }
 ],
 "metadata": {
  "kernelspec": {
   "display_name": "Python 3 (ipykernel)",
   "language": "python",
   "name": "python3"
  },
  "language_info": {
   "codemirror_mode": {
    "name": "ipython",
    "version": 3
   },
   "file_extension": ".py",
   "mimetype": "text/x-python",
   "name": "python",
   "nbconvert_exporter": "python",
   "pygments_lexer": "ipython3",
   "version": "3.9.5"
  }
 },
 "nbformat": 4,
 "nbformat_minor": 5
}
